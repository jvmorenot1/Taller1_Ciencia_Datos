{
  "cells": [
    {
      "cell_type": "markdown",
      "metadata": {
        "id": "view-in-github",
        "colab_type": "text"
      },
      "source": [
        "<a href=\"https://colab.research.google.com/github/jvmorenot1/Taller1_Ciencia_Datos/blob/main/Taller_1.ipynb\" target=\"_parent\"><img src=\"https://colab.research.google.com/assets/colab-badge.svg\" alt=\"Open In Colab\"/></a>"
      ]
    },
    {
      "cell_type": "markdown",
      "id": "65642d56-c596-4f2b-9bb1-90e2c403b899",
      "metadata": {
        "id": "65642d56-c596-4f2b-9bb1-90e2c403b899"
      },
      "source": [
        "<a href=\"https://colab.research.google.com/github/datascience-uniandes/eda-tutorial/blob/master/airbnb/eda.ipynb\" target=\"_parent\"><img src=\"https://colab.research.google.com/assets/colab-badge.svg\" alt=\"Open In Colab\"/></a>"
      ]
    },
    {
      "cell_type": "markdown",
      "id": "5ed0788a-edef-4304-a544-c35aed7bb02c",
      "metadata": {
        "id": "5ed0788a-edef-4304-a544-c35aed7bb02c"
      },
      "source": [
        "# Exploratory Data Analysis (EDA)\n",
        "\n",
        "MINE-4101: Applied Data Science  \n",
        "Univerisdad de los Andes  \n",
        "  \n",
        "**Dataset:** AirBnb Listings - Mexico City, Distrito Federal, Mexico [[dataset](http://insideairbnb.com/get-the-data/) | [dictionary](https://docs.google.com/spreadsheets/d/1iWCNJcSutYqpULSQHlNyGInUvHg2BoUGoNRIGa6Szc4/edit?usp=sharing)]. This dataset comprises information about Airbnb property listings in Mexico City. It includes data points like neighborhood, property type, price per night, number of reviews, review scores, availability, amenities, and more.\n",
        "\n",
        "**Business Context:** Property Investment and Vacation Rental Strategy. Imagine you're a consultant for individuals or firms looking to invest in properties for Airbnb rentals. They want to identify the most lucrative neighborhoods, optimal pricing strategies, and understand the factors that contribute to positive reviews and frequent bookings.\n",
        "\n",
        "Last update: August, 2023"
      ]
    },
    {
      "cell_type": "code",
      "execution_count": null,
      "id": "fa878881-66df-4d8e-b792-1d65470a8dc5",
      "metadata": {
        "id": "fa878881-66df-4d8e-b792-1d65470a8dc5"
      },
      "outputs": [],
      "source": [
        "import pandas as pd\n",
        "\n",
        "import matplotlib.pyplot as plt\n",
        "import seaborn as sns"
      ]
    },
    {
      "cell_type": "code",
      "execution_count": null,
      "id": "934e72ec-a2c1-45ec-a6fc-a4acb80950d8",
      "metadata": {
        "id": "934e72ec-a2c1-45ec-a6fc-a4acb80950d8"
      },
      "outputs": [],
      "source": [
        "# Pandas configuration for extending the number of columns and rows to show\n",
        "pd.set_option(\"display.max_columns\", None)\n",
        "pd.set_option(\"display.max_rows\", 100)"
      ]
    },
    {
      "cell_type": "markdown",
      "id": "8877beda-27b4-4c17-9d6b-6328db41ac08",
      "metadata": {
        "id": "8877beda-27b4-4c17-9d6b-6328db41ac08"
      },
      "source": [
        "## 1. Loading the data"
      ]
    },
    {
      "cell_type": "code",
      "execution_count": null,
      "id": "7840e83b-2f32-438f-a8d2-20ef259cf3ac",
      "metadata": {
        "id": "7840e83b-2f32-438f-a8d2-20ef259cf3ac"
      },
      "outputs": [],
      "source": [
        "# Loading the CSV file as dataframe\n",
        "listings_df = pd.read_csv(\"./data/listings.csv.gz\")"
      ]
    },
    {
      "cell_type": "code",
      "execution_count": null,
      "id": "7fdc067c-1aff-4859-b40e-183cc292dfcd",
      "metadata": {
        "id": "7fdc067c-1aff-4859-b40e-183cc292dfcd"
      },
      "outputs": [],
      "source": [
        "# Showing dataframe dimensions\n",
        "listings_df.shape"
      ]
    },
    {
      "cell_type": "code",
      "execution_count": null,
      "id": "666da89f-03fa-434d-a366-7fc2e399a731",
      "metadata": {
        "id": "666da89f-03fa-434d-a366-7fc2e399a731"
      },
      "outputs": [],
      "source": [
        "# Showing column types\n",
        "listings_df.dtypes"
      ]
    },
    {
      "cell_type": "code",
      "execution_count": null,
      "id": "bd41edc2-6d04-4d10-a77d-2ed0f962b657",
      "metadata": {
        "id": "bd41edc2-6d04-4d10-a77d-2ed0f962b657"
      },
      "outputs": [],
      "source": [
        "#fifa_df.head() # Showing the first rows\n",
        "#fifa_df.tail() # Showing last first rows\n",
        "listings_df.sample(5) # Showing a sample of n rows"
      ]
    },
    {
      "cell_type": "markdown",
      "id": "8a48a9a6-7266-472f-be40-c820e199a029",
      "metadata": {
        "id": "8a48a9a6-7266-472f-be40-c820e199a029"
      },
      "source": [
        "## 2. Univariate analysis"
      ]
    },
    {
      "cell_type": "code",
      "execution_count": null,
      "id": "15a2aee6-4720-477f-96b5-da43cc930db5",
      "metadata": {
        "id": "15a2aee6-4720-477f-96b5-da43cc930db5"
      },
      "outputs": [],
      "source": [
        "# Showing the number of unique values of listing ids\n",
        "# This can be helpful to diagnose duplicity\n",
        "listings_df[\"id\"].nunique()"
      ]
    },
    {
      "cell_type": "code",
      "execution_count": null,
      "id": "bc04351d-8e46-49ee-9c41-3682e24bd494",
      "metadata": {
        "id": "bc04351d-8e46-49ee-9c41-3682e24bd494"
      },
      "outputs": [],
      "source": [
        "# Showing unique values of neighbourhoods\n",
        "listings_df[\"neighbourhood_cleansed\"].unique()"
      ]
    },
    {
      "cell_type": "code",
      "execution_count": null,
      "id": "31768fab-c8d6-46e1-bca2-58b43d2f7a8f",
      "metadata": {
        "id": "31768fab-c8d6-46e1-bca2-58b43d2f7a8f"
      },
      "outputs": [],
      "source": [
        "# Calculating the relative frecuency of room types\n",
        "listings_df[\"room_type\"].value_counts(dropna=False, normalize=True) # You can set normalize to False for calculating the absolute frecuency"
      ]
    },
    {
      "cell_type": "code",
      "execution_count": null,
      "id": "35a2314f-25d7-4cf8-bc4f-48da44610479",
      "metadata": {
        "id": "35a2314f-25d7-4cf8-bc4f-48da44610479"
      },
      "outputs": [],
      "source": [
        "# Calculating basic statistics of accommodates\n",
        "listings_df[\"accommodates\"].describe(percentiles=[0.05, 0.25, 0.5, 0.75, 0.95])"
      ]
    },
    {
      "cell_type": "markdown",
      "id": "2c587eb0-50fd-4c28-8f78-404b30cdcf08",
      "metadata": {
        "id": "2c587eb0-50fd-4c28-8f78-404b30cdcf08"
      },
      "source": [
        "<span style=\"color: red;\">What does it means the value of 0 for this attribute?</span>"
      ]
    },
    {
      "cell_type": "code",
      "execution_count": null,
      "id": "a7ce14e6-d333-4740-9fb0-ffdff904c06c",
      "metadata": {
        "id": "a7ce14e6-d333-4740-9fb0-ffdff904c06c"
      },
      "outputs": [],
      "source": [
        "# We need to transform the price attribute from object to float\n",
        "listings_df[\"price_float\"] = listings_df[\"price\"].str.replace(\"[$,]\", \"\", regex=True).astype(float)"
      ]
    },
    {
      "cell_type": "code",
      "execution_count": null,
      "id": "e9d82956-e456-41b6-8c00-61176622ec39",
      "metadata": {
        "id": "e9d82956-e456-41b6-8c00-61176622ec39"
      },
      "outputs": [],
      "source": [
        "# Plotting a histogram for price\n",
        "plt.figure(figsize=(20, 5))\n",
        "plt.hist(listings_df[\"price_float\"], bins=50)\n",
        "plt.title(\"Price distribution\")\n",
        "plt.plot()"
      ]
    },
    {
      "cell_type": "markdown",
      "id": "475ab96f-e169-4998-ae2d-563123991e30",
      "metadata": {
        "id": "475ab96f-e169-4998-ae2d-563123991e30"
      },
      "source": [
        "<span style=\"color: red;\">This attribute has a extreme outlier making difficult a proper visualization?</span>"
      ]
    },
    {
      "cell_type": "code",
      "execution_count": null,
      "id": "c0cd6073-7c39-4216-a807-e905a2bc7a88",
      "metadata": {
        "id": "c0cd6073-7c39-4216-a807-e905a2bc7a88"
      },
      "outputs": [],
      "source": [
        "# Let's make some calculations for determining an outlier threshold\n",
        "q1 = listings_df[\"price_float\"].quantile(0.25)\n",
        "q3 = listings_df[\"price_float\"].quantile(0.75)\n",
        "iqr = q3 - q1"
      ]
    },
    {
      "cell_type": "code",
      "execution_count": null,
      "id": "687f2fcc-a10e-4324-b016-bba3ed48c4fb",
      "metadata": {
        "id": "687f2fcc-a10e-4324-b016-bba3ed48c4fb"
      },
      "outputs": [],
      "source": [
        "plt.figure(figsize=(20, 5))\n",
        "plt.hist(listings_df.loc[listings_df[\"price_float\"] <= (q3 + 1.5 * iqr)][\"price_float\"], bins=50)\n",
        "plt.title(\"Price distribution\")\n",
        "plt.plot()"
      ]
    },
    {
      "cell_type": "code",
      "execution_count": null,
      "id": "00907541-9b1c-4830-a5a1-af76efee77a5",
      "metadata": {
        "id": "00907541-9b1c-4830-a5a1-af76efee77a5"
      },
      "outputs": [],
      "source": [
        "# Plotting bar charts for has availability and instant bookable\n",
        "fig, (ax1, ax2) = plt.subplots(1, 2, sharey=True, figsize=(20, 5))\n",
        "listings_df[\"has_availability\"].value_counts().plot(kind=\"bar\", ax=ax1, color=\"orange\")\n",
        "listings_df[\"instant_bookable\"].value_counts().sort_index(ascending=False).plot(kind=\"bar\", ax=ax2, color=\"green\")\n",
        "ax1.set_title(\"Has availability frecuency\")\n",
        "ax2.set_title(\"Instant bookable frecuency\")\n",
        "plt.show()"
      ]
    },
    {
      "cell_type": "code",
      "execution_count": null,
      "id": "ce4dd2d6-eda2-4c26-89d2-bba762a5c7be",
      "metadata": {
        "id": "ce4dd2d6-eda2-4c26-89d2-bba762a5c7be"
      },
      "outputs": [],
      "source": [
        "# Plotting a boxplot for number of reviews\n",
        "plt.figure(figsize=(20, 5))\n",
        "plt.boxplot(listings_df[\"number_of_reviews\"], showmeans=True, vert=False)\n",
        "plt.title(\"Number of reviews distribution\")\n",
        "plt.show()"
      ]
    },
    {
      "cell_type": "markdown",
      "id": "0fd7cbf9-44ba-49e6-9166-9de23e45ec2a",
      "metadata": {
        "id": "0fd7cbf9-44ba-49e6-9166-9de23e45ec2a"
      },
      "source": [
        "## 2. Bivariate analysis"
      ]
    },
    {
      "cell_type": "code",
      "execution_count": null,
      "id": "012035ff-0256-4309-a356-0b30f48a3f83",
      "metadata": {
        "id": "012035ff-0256-4309-a356-0b30f48a3f83"
      },
      "outputs": [],
      "source": [
        "# Plotting correlation heatmap among review scores\n",
        "plt.figure(figsize=(10, 8))\n",
        "sns.heatmap(\n",
        "    listings_df[[\"review_scores_rating\", \"review_scores_accuracy\", \"review_scores_cleanliness\", \"review_scores_checkin\", \"review_scores_communication\", \"review_scores_location\", \"review_scores_value\"]].corr(),\n",
        "    vmin=0.5, vmax=1,\n",
        "    cmap=\"Blues\"\n",
        ")\n",
        "plt.title(\"Correlation among review scores\")\n",
        "plt.show()"
      ]
    },
    {
      "cell_type": "code",
      "execution_count": null,
      "id": "6c18b3ff-477e-4377-84d5-bf24561bf5b0",
      "metadata": {
        "id": "6c18b3ff-477e-4377-84d5-bf24561bf5b0"
      },
      "outputs": [],
      "source": [
        "# For large datasets, some visualizations are innefective when trying to represent individual instances\n",
        "# A naive strategy is to use only a random sample to visualize\n",
        "listings_sample_df =  listings_df.loc[listings_df[\"price_float\"] <= (q3 + 1.5 * iqr)].sample(frac=0.1)\n",
        "listings_sample_df.shape"
      ]
    },
    {
      "cell_type": "code",
      "execution_count": null,
      "id": "8a0aa277-64e2-4514-a790-5ef33b08c60c",
      "metadata": {
        "id": "8a0aa277-64e2-4514-a790-5ef33b08c60c"
      },
      "outputs": [],
      "source": [
        "# Plotting the relationship between price and review score value\n",
        "plt.figure(figsize=(10, 8))\n",
        "sns.scatterplot(\n",
        "    x=listings_sample_df[\"price_float\"],\n",
        "    y=listings_sample_df[\"review_scores_value\"]\n",
        ")\n",
        "plt.title(\"Relationship between price and review score value\")\n",
        "plt.grid()\n",
        "plt.show()"
      ]
    },
    {
      "cell_type": "code",
      "execution_count": null,
      "id": "61cc79c7-320d-4440-8037-41e9199d63e1",
      "metadata": {
        "id": "61cc79c7-320d-4440-8037-41e9199d63e1"
      },
      "outputs": [],
      "source": [
        "# Anothe common strategy for working with datasets with high variability is filter the dataset by representative groups according to the context\n",
        "# In this sense, let's work only with the neighbourhoods with more listings (pareto analysis)\n",
        "neighbourhood_frec_cumsum = listings_df[\"neighbourhood_cleansed\"].value_counts(normalize=True).cumsum()"
      ]
    },
    {
      "cell_type": "code",
      "execution_count": null,
      "id": "378c7a38-340b-4d27-93dc-3543e968a3bf",
      "metadata": {
        "id": "378c7a38-340b-4d27-93dc-3543e968a3bf"
      },
      "outputs": [],
      "source": [
        "# Plotting pareto analysis for neighbourhood frecuency\n",
        "plt.figure(figsize=(20, 8))\n",
        "neighbourhood_frec_cumsum.plot(kind=\"bar\", color=\"steelblue\")\n",
        "plt.title(\"Pareto analysis for neighbourhood frecuency\")\n",
        "plt.grid(axis=\"y\")\n",
        "plt.show()"
      ]
    },
    {
      "cell_type": "code",
      "execution_count": null,
      "id": "33438d16-edd6-409e-b826-03f0fae9a365",
      "metadata": {
        "id": "33438d16-edd6-409e-b826-03f0fae9a365"
      },
      "outputs": [],
      "source": [
        "most_representative_neighbourhoods = neighbourhood_frec_cumsum.loc[neighbourhood_frec_cumsum < 0.8].index.tolist()\n",
        "most_representative_neighbourhoods"
      ]
    },
    {
      "cell_type": "code",
      "execution_count": null,
      "id": "b5a80f27-e24c-44f6-ab63-60d26a3e6f2e",
      "metadata": {
        "id": "b5a80f27-e24c-44f6-ab63-60d26a3e6f2e"
      },
      "outputs": [],
      "source": [
        "# Plotting price distribution by neighbourhood\n",
        "fig, ax = plt.subplots(1, 1, figsize=(20, 8))\n",
        "sns.kdeplot(\n",
        "    data=listings_df.loc[listings_df[\"price_float\"] <= (q3 + 1.5 * iqr)].loc[listings_df[\"neighbourhood_cleansed\"].isin(most_representative_neighbourhoods)],\n",
        "    x=\"price_float\",\n",
        "    hue=\"neighbourhood_cleansed\",\n",
        "    bw_adjust=.3,\n",
        "    ax=ax\n",
        ")\n",
        "for (neighbourhood, color) in zip(most_representative_neighbourhoods, [\"steelblue\", \"orange\", \"green\"]):\n",
        "    ax.axvline(listings_df.loc[listings_df[\"price_float\"] <= (q3 + 1.5 * iqr)].loc[listings_df[\"neighbourhood_cleansed\"] == neighbourhood, \"price_float\"].mean(), color=color, linestyle=\"dashed\", linewidth=2, ymax=0.2)\n",
        "plt.title(\"Price distribution by neighbourhood (with means)\")\n",
        "plt.show()"
      ]
    },
    {
      "cell_type": "code",
      "execution_count": null,
      "id": "9ce88223-27ef-4d3d-bd02-2402156c1eb6",
      "metadata": {
        "id": "9ce88223-27ef-4d3d-bd02-2402156c1eb6"
      },
      "outputs": [],
      "source": [
        "# Plotting number of reviews distribution by neighbourhood\n",
        "fig, ax = plt.subplots(1, 1, figsize=(20, 8))\n",
        "sns.kdeplot(\n",
        "    data=listings_df.loc[listings_df[\"price_float\"] <= (q3 + 1.5 * iqr)].loc[listings_df[\"neighbourhood_cleansed\"].isin(most_representative_neighbourhoods)],\n",
        "    x=\"number_of_reviews\",\n",
        "    hue=\"neighbourhood_cleansed\",\n",
        "    bw_adjust=.3,\n",
        "    ax=ax\n",
        ")\n",
        "for (neighbourhood, color) in zip(most_representative_neighbourhoods, [\"steelblue\", \"orange\", \"green\"]):\n",
        "    ax.axvline(listings_df.loc[listings_df[\"price_float\"] <= (q3 + 1.5 * iqr)].loc[listings_df[\"neighbourhood_cleansed\"] == neighbourhood, \"number_of_reviews\"].mean(), color=color, linestyle=\"dashed\", linewidth=2, ymax=0.2)\n",
        "plt.title(\"Price distribution by neighbourhood (with means)\")\n",
        "plt.xlim([0, 200])\n",
        "plt.show()"
      ]
    },
    {
      "cell_type": "code",
      "execution_count": null,
      "id": "450329bb-2b75-4f34-b704-637a632fba27",
      "metadata": {
        "id": "450329bb-2b75-4f34-b704-637a632fba27"
      },
      "outputs": [],
      "source": []
    }
  ],
  "metadata": {
    "kernelspec": {
      "display_name": "Python 3 (ipykernel)",
      "language": "python",
      "name": "python3"
    },
    "language_info": {
      "codemirror_mode": {
        "name": "ipython",
        "version": 3
      },
      "file_extension": ".py",
      "mimetype": "text/x-python",
      "name": "python",
      "nbconvert_exporter": "python",
      "pygments_lexer": "ipython3",
      "version": "3.9.12"
    },
    "colab": {
      "provenance": [],
      "include_colab_link": true
    }
  },
  "nbformat": 4,
  "nbformat_minor": 5
}